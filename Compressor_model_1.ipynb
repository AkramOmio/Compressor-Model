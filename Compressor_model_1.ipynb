{
 "cells": [
  {
   "cell_type": "markdown",
   "id": "30e915d1-d7eb-4872-b554-650f29d9563b",
   "metadata": {},
   "source": [
    "# Package Install"
   ]
  },
  {
   "cell_type": "code",
   "execution_count": 1,
   "id": "7561010f-4941-43c6-a894-2d9edec137ed",
   "metadata": {},
   "outputs": [],
   "source": [
    "import numpy as np\n",
    "import pandas as pd\n",
    "import matplotlib.pyplot as plt\n",
    "import seaborn as sns\n",
    "from sklearn.model_selection import train_test_split\n",
    "from sklearn.preprocessing import PolynomialFeatures\n",
    "from sklearn.preprocessing import StandardScaler"
   ]
  },
  {
   "cell_type": "code",
   "execution_count": 2,
   "id": "8d04d6a7-8a83-42de-93e0-5cebacac12aa",
   "metadata": {
    "scrolled": true
   },
   "outputs": [
    {
     "data": {
      "text/html": [
       "<div>\n",
       "<style scoped>\n",
       "    .dataframe tbody tr th:only-of-type {\n",
       "        vertical-align: middle;\n",
       "    }\n",
       "\n",
       "    .dataframe tbody tr th {\n",
       "        vertical-align: top;\n",
       "    }\n",
       "\n",
       "    .dataframe thead th {\n",
       "        text-align: right;\n",
       "    }\n",
       "</style>\n",
       "<table border=\"1\" class=\"dataframe\">\n",
       "  <thead>\n",
       "    <tr style=\"text-align: right;\">\n",
       "      <th></th>\n",
       "      <th>Condenser</th>\n",
       "      <th>Evaporator</th>\n",
       "      <th>RPM</th>\n",
       "      <th>Capacity</th>\n",
       "    </tr>\n",
       "  </thead>\n",
       "  <tbody>\n",
       "    <tr>\n",
       "      <th>0</th>\n",
       "      <td>40</td>\n",
       "      <td>-35</td>\n",
       "      <td>1100</td>\n",
       "      <td>58.7</td>\n",
       "    </tr>\n",
       "    <tr>\n",
       "      <th>1</th>\n",
       "      <td>40</td>\n",
       "      <td>-30</td>\n",
       "      <td>1100</td>\n",
       "      <td>78.6</td>\n",
       "    </tr>\n",
       "    <tr>\n",
       "      <th>2</th>\n",
       "      <td>40</td>\n",
       "      <td>-25</td>\n",
       "      <td>1100</td>\n",
       "      <td>104.8</td>\n",
       "    </tr>\n",
       "    <tr>\n",
       "      <th>3</th>\n",
       "      <td>40</td>\n",
       "      <td>-20</td>\n",
       "      <td>1100</td>\n",
       "      <td>131.0</td>\n",
       "    </tr>\n",
       "    <tr>\n",
       "      <th>4</th>\n",
       "      <td>40</td>\n",
       "      <td>-15</td>\n",
       "      <td>1100</td>\n",
       "      <td>166.4</td>\n",
       "    </tr>\n",
       "    <tr>\n",
       "      <th>...</th>\n",
       "      <td>...</td>\n",
       "      <td>...</td>\n",
       "      <td>...</td>\n",
       "      <td>...</td>\n",
       "    </tr>\n",
       "    <tr>\n",
       "      <th>115</th>\n",
       "      <td>60</td>\n",
       "      <td>-30</td>\n",
       "      <td>3700</td>\n",
       "      <td>229.0</td>\n",
       "    </tr>\n",
       "    <tr>\n",
       "      <th>116</th>\n",
       "      <td>60</td>\n",
       "      <td>-25</td>\n",
       "      <td>3700</td>\n",
       "      <td>313.0</td>\n",
       "    </tr>\n",
       "    <tr>\n",
       "      <th>117</th>\n",
       "      <td>60</td>\n",
       "      <td>-20</td>\n",
       "      <td>3700</td>\n",
       "      <td>397.0</td>\n",
       "    </tr>\n",
       "    <tr>\n",
       "      <th>118</th>\n",
       "      <td>60</td>\n",
       "      <td>-15</td>\n",
       "      <td>3700</td>\n",
       "      <td>499.5</td>\n",
       "    </tr>\n",
       "    <tr>\n",
       "      <th>119</th>\n",
       "      <td>60</td>\n",
       "      <td>-10</td>\n",
       "      <td>3700</td>\n",
       "      <td>629.3</td>\n",
       "    </tr>\n",
       "  </tbody>\n",
       "</table>\n",
       "<p>120 rows × 4 columns</p>\n",
       "</div>"
      ],
      "text/plain": [
       "     Condenser  Evaporator   RPM  Capacity\n",
       "0           40         -35  1100      58.7\n",
       "1           40         -30  1100      78.6\n",
       "2           40         -25  1100     104.8\n",
       "3           40         -20  1100     131.0\n",
       "4           40         -15  1100     166.4\n",
       "..         ...         ...   ...       ...\n",
       "115         60         -30  3700     229.0\n",
       "116         60         -25  3700     313.0\n",
       "117         60         -20  3700     397.0\n",
       "118         60         -15  3700     499.5\n",
       "119         60         -10  3700     629.3\n",
       "\n",
       "[120 rows x 4 columns]"
      ]
     },
     "execution_count": 2,
     "metadata": {},
     "output_type": "execute_result"
    }
   ],
   "source": [
    "df=pd.read_csv('9_calories_data_2.csv')\n",
    "df"
   ]
  },
  {
   "cell_type": "code",
   "execution_count": 3,
   "id": "5e0b464b-4dbc-4a68-b842-052855a85f29",
   "metadata": {},
   "outputs": [],
   "source": [
    "X=df.drop('Capacity',axis=1)\n",
    "y=df['Capacity']"
   ]
  },
  {
   "cell_type": "code",
   "execution_count": 4,
   "id": "bf0d5ea2-903a-4107-864d-c39d13ccbe6f",
   "metadata": {},
   "outputs": [],
   "source": [
    "from sklearn.metrics import mean_absolute_error, mean_squared_error\n",
    "\n",
    "def performance(y_actual,y_predict):\n",
    "    MAE=mean_absolute_error(y_actual,y_predict)\n",
    "    print('MAE',MAE)\n",
    "    MSE=mean_squared_error(y_actual,y_predict)\n",
    "    print('MSE',MSE)\n",
    "    R2=1-(np.sum((np.subtract(y_predict,y_actual))**2)/np.sum((np.subtract(y_actual,(np.sum(y_actual)/len(y_actual))))**2))\n",
    "    print('R2: {}'.format(R2))\n",
    "    "
   ]
  },
  {
   "cell_type": "code",
   "execution_count": 5,
   "id": "c795eea5-90ec-4f8c-a2fa-dc9bc9a4b49b",
   "metadata": {},
   "outputs": [],
   "source": [
    "def feature(b_input,n_degree):\n",
    "    polynomial_converter=PolynomialFeatures(degree=n_degree,include_bias=False)\n",
    "    poly_features=polynomial_converter.fit_transform(b_input)\n",
    "    return poly_features"
   ]
  },
  {
   "cell_type": "code",
   "execution_count": 6,
   "id": "2e062b5e-26e6-4808-b8d6-e8b33cb8d13c",
   "metadata": {},
   "outputs": [],
   "source": [
    "def run_model(model,X_train,X_test,y_train,y_test):\n",
    "    model.fit(X_train,y_train)\n",
    "    predict=model.predict(X_test)\n",
    "    performance(y_test,predict)"
   ]
  },
  {
   "cell_type": "markdown",
   "id": "c9b0e271-a4cc-4020-ae3e-d290110c048d",
   "metadata": {},
   "source": [
    "# Normalization"
   ]
  },
  {
   "cell_type": "code",
   "execution_count": 7,
   "id": "0bed35c7-ef78-4245-85a5-f623cd8a6406",
   "metadata": {},
   "outputs": [],
   "source": [
    "def score_normalize (n_data):\n",
    "    mu=np.mean(n_data,axis=0)\n",
    "    sigma=np.std(n_data,axis=0)\n",
    "    X_norm=(n_data-mu)/sigma\n",
    "    return (X_norm,mu,sigma)"
   ]
  },
  {
   "cell_type": "markdown",
   "id": "6818a9ca-e8ad-4df0-a881-02517d2a5361",
   "metadata": {},
   "source": [
    "# Data Scalling"
   ]
  },
  {
   "cell_type": "code",
   "execution_count": null,
   "id": "feecf700-51a7-40c5-876c-6367002313a2",
   "metadata": {},
   "outputs": [],
   "source": []
  },
  {
   "cell_type": "code",
   "execution_count": 29,
   "id": "98fa49c3-1a91-4edc-b4e3-7b72c566110c",
   "metadata": {},
   "outputs": [
    {
     "name": "stdout",
     "output_type": "stream",
     "text": [
      "[[ 0.59841978 -0.19140667  0.40860462]]\n"
     ]
    }
   ],
   "source": [
    "a_cond=X['Condenser']\n",
    "norm_cond,mu_cond,sigma_cond=score_normalize(a_cond)\n",
    "a_eva=X['Evaporator']/100\n",
    "norm_eva,mu_eva,sigma_eva=score_normalize(a_eva)\n",
    "a_rpm=X['RPM']/1000\n",
    "norm_rpm,mu_rpm,sigma_rpm=score_normalize(a_rpm)\n",
    "X_normal=np.transpose([norm_cond, norm_eva,norm_rpm])\n",
    "\n",
    "np.shape(X_normal)\n",
    "# Ideal Data\n",
    "X_input=X_normal\n",
    "y_input=y\n",
    "X_input=feature(X_input,1)\n",
    "X_train,X_test,y_train,y_test=train_test_split(X_input,y_input,test_size=0.3,random_state=101)\n",
    "\n",
    "scaler=StandardScaler()\n",
    "scaler.fit(X_train)\n",
    "scaler_X_train=scaler.transform(X_train)\n",
    "scaler_X_test=scaler.transform(X_test)\n",
    "#scaler_X_train=X_train\n",
    "#scaler_X_test=X_test\n",
    "# Test Value for performance cheeck\n",
    "condenser=54.4\n",
    "evaporator= -23.3\n",
    "RPS=40\n",
    "RPM=RPS*60\n",
    "Real_value=226.8\n",
    "Test_value=[[(condenser-mu_cond)/sigma_cond,(((evaporator/100)-mu_eva)/sigma_eva),((RPM/1000)-mu_rpm)/sigma_rpm]]\n",
    "scaler_test=scaler.transform(feature(Test_value,1))\n",
    "#scaler_test=Test_value\n",
    "print(scaler_test)"
   ]
  },
  {
   "cell_type": "markdown",
   "id": "8799451e-53fd-403e-8c64-a9ddd61ffa97",
   "metadata": {},
   "source": [
    "# Linear Model"
   ]
  },
  {
   "cell_type": "code",
   "execution_count": 32,
   "id": "1c7dcba6-13f6-40fc-ae25-fd1de7d6649e",
   "metadata": {
    "scrolled": true
   },
   "outputs": [
    {
     "name": "stdout",
     "output_type": "stream",
     "text": [
      "MAE 37.326745568827306\n",
      "MSE 2521.8340894965295\n",
      "R2: 0.8892990082787637\n",
      "Predicted Cooling Capacity: [238.57537441]\n",
      "Percentage of error:  [5.19196403] %\n",
      "[-13.57951213  86.50867114 110.48742931]\n",
      "[[ 0.59841978 -0.19140667  0.40860462]]\n"
     ]
    }
   ],
   "source": [
    "from sklearn.linear_model import LinearRegression\n",
    "linear_model=LinearRegression()\n",
    "\n",
    "run_model(linear_model,scaler_X_train,scaler_X_test,y_train,y_test)\n",
    "\n",
    "predict_test_linear=linear_model.predict(scaler_test)\n",
    "predict_test_linear\n",
    "print('Predicted Cooling Capacity: {}'.format(predict_test_linear))\n",
    "deviation=np.abs(Real_value-predict_test_linear)/Real_value*100\n",
    "print('Percentage of error:  {} %'.format(deviation))\n",
    "print(linear_model.coef_)\n",
    "print(scaler_test)"
   ]
  },
  {
   "cell_type": "code",
   "execution_count": 34,
   "id": "9fe9a710-f0d5-4ac6-9ab3-d1c96442e907",
   "metadata": {},
   "outputs": [],
   "source": [
    "a=linear_model.coef_\n",
    "b=scaler_test"
   ]
  },
  {
   "cell_type": "code",
   "execution_count": 36,
   "id": "c7b2faa4-204a-4994-9f07-ac33dd266f5b",
   "metadata": {},
   "outputs": [
    {
     "data": {
      "text/plain": [
       "20.461088700390206"
      ]
     },
     "execution_count": 36,
     "metadata": {},
     "output_type": "execute_result"
    }
   ],
   "source": [
    "np.sum(a*b)"
   ]
  },
  {
   "cell_type": "code",
   "execution_count": 37,
   "id": "70a02553-4b9d-41ac-a6bd-06f5368aa397",
   "metadata": {},
   "outputs": [
    {
     "data": {
      "text/plain": [
       "array([238.57537441])"
      ]
     },
     "execution_count": 37,
     "metadata": {},
     "output_type": "execute_result"
    }
   ],
   "source": [
    "predict_test_linear"
   ]
  },
  {
   "cell_type": "code",
   "execution_count": null,
   "id": "e7682ab4-c6f4-4529-9fbf-de67b23b000f",
   "metadata": {},
   "outputs": [],
   "source": []
  },
  {
   "cell_type": "markdown",
   "id": "4c867860-a3c7-4797-a504-f8309605fedd",
   "metadata": {},
   "source": [
    "# Lasso Regression"
   ]
  },
  {
   "cell_type": "code",
   "execution_count": 10,
   "id": "81d0d9d4-b160-4df7-a46f-0ac08c4c1af8",
   "metadata": {
    "scrolled": true
   },
   "outputs": [
    {
     "name": "stdout",
     "output_type": "stream",
     "text": [
      "MAE 13.60539819559857\n",
      "MSE 370.1674946527395\n",
      "R2: 0.9837507515138695\n",
      "Predicted Cooling Capacity: [237.81689275]\n",
      "Percentage of error:  [4.85753649] %\n"
     ]
    }
   ],
   "source": [
    "from sklearn.linear_model import LassoCV\n",
    "lasso_cv_model=LassoCV(eps=0.1,n_alphas=100,cv=5)\n",
    "run_model(lasso_cv_model,scaler_X_train,scaler_X_test,y_train,y_test)\n",
    "predict_test_lasso=lasso_cv_model.predict(scaler_test)\n",
    "predict_test_lasso\n",
    "deviation=np.abs(Real_value-predict_test_lasso)/Real_value*100\n",
    "print('Predicted Cooling Capacity: {}'.format(predict_test_lasso))\n",
    "print('Percentage of error:  {} %'.format(deviation))"
   ]
  },
  {
   "cell_type": "markdown",
   "id": "3314fb0d-7286-4a97-aa18-fd17746bb71e",
   "metadata": {},
   "source": [
    "# Ridge Regression"
   ]
  },
  {
   "cell_type": "code",
   "execution_count": 11,
   "id": "d2ccf194-fa4d-4f15-881e-a39707e6bd31",
   "metadata": {
    "scrolled": true
   },
   "outputs": [
    {
     "name": "stdout",
     "output_type": "stream",
     "text": [
      "MAE 14.156201355051179\n",
      "MSE 314.330015780809\n",
      "R2: 0.986201850224955\n",
      "Predicted Cooling Capacity: [180.7775952]\n",
      "Percentage of error:  [20.29206561] %\n"
     ]
    }
   ],
   "source": [
    "#Maching Learning model\n",
    "from sklearn.linear_model import Ridge\n",
    "ridge_model=Ridge(alpha=10)\n",
    "run_model(ridge_model,scaler_X_train,scaler_X_test,y_train,y_test)\n",
    "predict_test_ridge=ridge_model.predict(scaler_test)\n",
    "predict_test_ridge\n",
    "\n",
    "deviation=np.abs(Real_value-predict_test_ridge)/Real_value*100\n",
    "print('Predicted Cooling Capacity: {}'.format(predict_test_ridge))\n",
    "print('Percentage of error:  {} %'.format(deviation))"
   ]
  },
  {
   "cell_type": "markdown",
   "id": "c4f919cb-1391-401b-9bb0-c7f7a5397920",
   "metadata": {},
   "source": [
    "# Ridge CV"
   ]
  },
  {
   "cell_type": "code",
   "execution_count": 12,
   "id": "4516b3ef-7cee-4dce-9129-9e2b4d941a8b",
   "metadata": {
    "scrolled": true
   },
   "outputs": [
    {
     "name": "stdout",
     "output_type": "stream",
     "text": [
      "MAE 3.6178985724666677\n",
      "MSE 35.891021559644315\n",
      "R2: 0.9984244912474262\n",
      "Predicted Cooling Capacity: [209.39267052]\n",
      "Percentage of error:  [7.67518936] %\n"
     ]
    }
   ],
   "source": [
    "#Maching Learning model\n",
    "from sklearn.linear_model import RidgeCV\n",
    "ridge_cv_model=RidgeCV(alphas=(0.1,1.0,10.0),scoring='neg_mean_absolute_error')\n",
    "run_model(ridge_cv_model,scaler_X_train,scaler_X_test,y_train,y_test)\n",
    "predict_test_ridge_cv=ridge_cv_model.predict(scaler_test)\n",
    "predict_test_ridge_cv\n",
    "deviation=np.abs(Real_value-predict_test_ridge_cv)/Real_value*100\n",
    "print('Predicted Cooling Capacity: {}'.format(predict_test_ridge_cv))\n",
    "print('Percentage of error:  {} %'.format(deviation))"
   ]
  },
  {
   "cell_type": "markdown",
   "id": "11f1fcaa-49a6-47a1-9a3a-6536b49390e6",
   "metadata": {},
   "source": [
    "# Sunpport Vector Regression"
   ]
  },
  {
   "cell_type": "code",
   "execution_count": 13,
   "id": "5f62a32a-13ed-43f1-9ccf-bcf91eec4ab3",
   "metadata": {},
   "outputs": [
    {
     "name": "stdout",
     "output_type": "stream",
     "text": [
      "MAE 104.08425901826405\n",
      "MSE 22799.630472486057\n",
      "R2: -0.0008357467662813978\n",
      "Predicted Cooling Capacity: [176.24574745]\n",
      "Percentage of error:  [22.29023481] %\n"
     ]
    }
   ],
   "source": [
    "from sklearn.svm import SVR,LinearSVR\n",
    "SVR_model=SVR()\n",
    "run_model(SVR_model,scaler_X_train,scaler_X_test,y_train,y_test)\n",
    "predict_test_svr=SVR_model.predict(scaler_test)\n",
    "\n",
    "deviation=np.abs(Real_value-predict_test_svr)/Real_value*100\n",
    "print('Predicted Cooling Capacity: {}'.format(predict_test_svr))\n",
    "print('Percentage of error:  {} %'.format(deviation))"
   ]
  },
  {
   "cell_type": "markdown",
   "id": "e4076291-0eec-4e5b-8d44-f4df53aad1db",
   "metadata": {},
   "source": [
    "# Grid Search CV"
   ]
  },
  {
   "cell_type": "code",
   "execution_count": 14,
   "id": "47fea393-3a3e-42d9-8137-61d2a661970e",
   "metadata": {},
   "outputs": [
    {
     "name": "stdout",
     "output_type": "stream",
     "text": [
      "MAE 21.660783113311616\n",
      "MSE 978.2963970548312\n",
      "R2: 0.9570557072718042\n",
      "Predicted Cooling Capacity: [154.65998474]\n",
      "Percentage of error:  [31.80776687] %\n"
     ]
    }
   ],
   "source": [
    "# Machine Learning Model\n",
    "param_grid={'C':[0.001,0.01,0.1,0.5,1],\n",
    "           'kernel':['linear','rbf','poly'],\n",
    "           'gamma':['scale','auto'],\n",
    "           'degree':[2,3,4,5],\n",
    "           'epsilon':[0,0.01,0.1,0.5,1,2]}\n",
    "from sklearn.model_selection import GridSearchCV\n",
    "svr=SVR()\n",
    "grid_model=GridSearchCV(svr,param_grid=param_grid)\n",
    "run_model(grid_model,X_train,X_test,y_train,y_test)\n",
    "predict_test_grid=grid_model.predict(scaler_test)\n",
    "predict_test_grid\n",
    "\n",
    "deviation=np.abs(Real_value-predict_test_grid)/Real_value*100\n",
    "print('Predicted Cooling Capacity: {}'.format(predict_test_grid))\n",
    "print('Percentage of error:  {} %'.format(deviation))"
   ]
  },
  {
   "cell_type": "markdown",
   "id": "9d97380f-c244-4d02-9bd9-6072926c85ff",
   "metadata": {},
   "source": [
    "# Decision Tree Regression"
   ]
  },
  {
   "cell_type": "code",
   "execution_count": 15,
   "id": "0859a44b-225e-43b6-a627-d8e13693df8c",
   "metadata": {},
   "outputs": [
    {
     "name": "stdout",
     "output_type": "stream",
     "text": [
      "MAE 9.416666666666673\n",
      "MSE 246.47833333333378\n",
      "R2: 0.9891803366242682\n",
      "Predicted Cooling Capacity: [219.8]\n",
      "Percentage of error:  [3.08641975] %\n"
     ]
    }
   ],
   "source": [
    "# Machine Learning Model\n",
    "from sklearn.tree import DecisionTreeRegressor\n",
    "DTree_model=DecisionTreeRegressor()\n",
    "run_model(DTree_model,scaler_X_train,scaler_X_test,y_train,y_test)\n",
    "predict_test_DTree=DTree_model.predict(scaler_test)\n",
    "predict_test_DTree\n",
    "\n",
    "deviation=np.abs(Real_value-predict_test_DTree)/Real_value*100\n",
    "print('Predicted Cooling Capacity: {}'.format(predict_test_DTree))\n",
    "print('Percentage of error:  {} %'.format(deviation))"
   ]
  },
  {
   "cell_type": "markdown",
   "id": "0ed09a3c-eba3-4446-b6cc-b389e037352c",
   "metadata": {},
   "source": [
    "# KNN Regression"
   ]
  },
  {
   "cell_type": "code",
   "execution_count": 16,
   "id": "b2d21937-02a0-4725-aa0c-857b5a2cef9b",
   "metadata": {
    "scrolled": true
   },
   "outputs": [
    {
     "name": "stdout",
     "output_type": "stream",
     "text": [
      "n_neighbors: 1 \n",
      "\n",
      "MAE 40.81944444444444\n",
      "MSE 2486.6530555555555\n",
      "R2: 0.8908433506933838\n",
      "Predicted Result: [159.]\n",
      "Predicted Cooling Capacity: [159.]\n",
      "Percentage of error:  [29.89417989] %\n",
      "\n",
      "\n",
      "n_neighbors: 5 \n",
      "\n",
      "MAE 40.621111111111105\n",
      "MSE 3032.663222222223\n",
      "R2: 0.8668751335963008\n",
      "Predicted Result: [171.78]\n",
      "Predicted Cooling Capacity: [171.78]\n",
      "Percentage of error:  [24.25925926] %\n",
      "\n",
      "\n",
      "n_neighbors: 7 \n",
      "\n",
      "MAE 44.79087301587302\n",
      "MSE 3878.7917290249443\n",
      "R2: 0.829732616879283\n",
      "Predicted Result: [163.37142857]\n",
      "Predicted Cooling Capacity: [163.37142857]\n",
      "Percentage of error:  [27.96674225] %\n",
      "\n",
      "\n",
      "n_neighbors: 9 \n",
      "\n",
      "MAE 46.811728395061735\n",
      "MSE 4910.283347050755\n",
      "R2: 0.7844532126777177\n",
      "Predicted Result: [170.16666667]\n",
      "Predicted Cooling Capacity: [170.16666667]\n",
      "Percentage of error:  [24.97060553] %\n",
      "\n",
      "\n"
     ]
    }
   ],
   "source": [
    "from sklearn.neighbors import KNeighborsRegressor\n",
    "preds={}\n",
    "k_values=[1,5,7,9]\n",
    "for n in k_values:\n",
    "    print('n_neighbors: {} \\n'.format(n))\n",
    "    knn_model=KNeighborsRegressor(n_neighbors=n)\n",
    "    run_model(knn_model,scaler_X_train,scaler_X_test,y_train,y_test)\n",
    "    predict_test_knn=knn_model.predict(scaler_test)\n",
    "    print('Predicted Result: {}'.format(predict_test_knn))\n",
    "\n",
    "    deviation=np.abs(Real_value-predict_test_knn)/Real_value*100\n",
    "    print('Predicted Cooling Capacity: {}'.format(predict_test_knn))\n",
    "    print('Percentage of error:  {} %'.format(deviation))\n",
    "    print('\\n')\n",
    "    "
   ]
  },
  {
   "cell_type": "markdown",
   "id": "e2c2da5f-92bd-4eb5-9969-8cd1063f6135",
   "metadata": {},
   "source": [
    "# Random Forest"
   ]
  },
  {
   "cell_type": "code",
   "execution_count": 17,
   "id": "5794072f-0b98-497e-b263-61e37dc7efaf",
   "metadata": {},
   "outputs": [
    {
     "name": "stdout",
     "output_type": "stream",
     "text": [
      "Trees:  10\n",
      "MAE 13.749722222222227\n",
      "MSE 436.6843416666672\n",
      "R2: 0.9808308604071229\n",
      "Predicted Result: [188.33]\n",
      "Predicted Cooling Capacity: [188.33]\n",
      "Percentage of error:  [16.96208113] %\n",
      "\n",
      "\n",
      "Trees:  50\n",
      "MAE 12.073999999999977\n",
      "MSE 234.10162222222112\n",
      "R2: 0.9897236373116346\n",
      "Predicted Result: [188.022]\n",
      "Predicted Cooling Capacity: [188.022]\n",
      "Percentage of error:  [17.0978836] %\n",
      "\n",
      "\n",
      "Trees:  100\n",
      "MAE 12.133166666666645\n",
      "MSE 278.2353945000005\n",
      "R2: 0.9877862963977743\n",
      "Predicted Result: [180.595]\n",
      "Predicted Cooling Capacity: [180.595]\n",
      "Percentage of error:  [20.37257496] %\n",
      "\n",
      "\n"
     ]
    }
   ],
   "source": [
    "# Machine learning \n",
    "from sklearn.ensemble import RandomForestRegressor\n",
    "trees=[10,50,100]\n",
    "for n in trees:\n",
    "    print('Trees: ',n)\n",
    "    RTree_model=RandomForestRegressor(n_estimators=n)\n",
    "    run_model(RTree_model,scaler_X_train,scaler_X_test,y_train,y_test)\n",
    "    predict_test_RTree=RTree_model.predict(scaler_test)\n",
    "    print('Predicted Result: {}'.format(predict_test_RTree))\n",
    "    deviation=np.abs(Real_value-predict_test_RTree)/Real_value*100\n",
    "    print('Predicted Cooling Capacity: {}'.format(predict_test_RTree))\n",
    "    print('Percentage of error:  {} %'.format(deviation))\n",
    "    print('\\n')\n",
    "    "
   ]
  },
  {
   "cell_type": "markdown",
   "id": "733f2cd8-4bfe-4e1c-9793-d91471dac4d4",
   "metadata": {},
   "source": [
    "# Gradient Boosting"
   ]
  },
  {
   "cell_type": "code",
   "execution_count": 18,
   "id": "f804ba2c-343d-4e36-84e4-48090d522675",
   "metadata": {},
   "outputs": [
    {
     "name": "stdout",
     "output_type": "stream",
     "text": [
      "MAE 5.888726304169036\n",
      "MSE 72.87053700390265\n",
      "R2: 0.9968012008612345\n",
      "Predicted Cooling Capacity: [199.19870271]\n",
      "Percentage of error:  [12.16988417] %\n"
     ]
    }
   ],
   "source": [
    "#Machine Leanring Model\n",
    "from sklearn.ensemble import GradientBoostingRegressor\n",
    "Gradient_model=GradientBoostingRegressor()\n",
    "run_model(Gradient_model,scaler_X_train,scaler_X_test,y_train,y_test)\n",
    "predict_test_gradient=Gradient_model.predict(scaler_test)\n",
    "\n",
    "\n",
    "deviation=np.abs(Real_value-predict_test_gradient)/Real_value*100\n",
    "print('Predicted Cooling Capacity: {}'.format(predict_test_gradient))\n",
    "print('Percentage of error:  {} %'.format(deviation))\n"
   ]
  },
  {
   "cell_type": "markdown",
   "id": "5ef009a0-3f15-4c39-806e-e7f79718cba4",
   "metadata": {},
   "source": [
    "# AdaBoost"
   ]
  },
  {
   "cell_type": "code",
   "execution_count": 19,
   "id": "7d06e76b-e078-44eb-8ee1-c3dfda5ac643",
   "metadata": {
    "scrolled": true
   },
   "outputs": [
    {
     "name": "stdout",
     "output_type": "stream",
     "text": [
      "MAE 20.821050102505552\n",
      "MSE 614.3152280597938\n",
      "R2: 0.9730333945207104\n",
      "Predicted Cooling Capacity: [188.9125]\n",
      "Percentage of error:  [16.70524691] %\n"
     ]
    }
   ],
   "source": [
    "#Machine Leanring Model\n",
    "from sklearn.ensemble import AdaBoostRegressor\n",
    "ada_model=AdaBoostRegressor()\n",
    "run_model(ada_model,scaler_X_train,scaler_X_test,y_train,y_test)\n",
    "predict_test_adaboost=ada_model.predict(scaler_test)\n",
    "\n",
    "deviation=np.abs(Real_value-predict_test_adaboost)/Real_value*100\n",
    "print('Predicted Cooling Capacity: {}'.format(predict_test_adaboost))\n",
    "print('Percentage of error:  {} %'.format(deviation))\n"
   ]
  },
  {
   "cell_type": "markdown",
   "id": "7a0074fe-d783-4b7c-a4ad-4fa5c0a5ae42",
   "metadata": {},
   "source": [
    "# Test Result"
   ]
  },
  {
   "cell_type": "code",
   "execution_count": 20,
   "id": "0c0f394a-30be-4a00-a013-b399e82ae5d5",
   "metadata": {},
   "outputs": [
    {
     "name": "stdout",
     "output_type": "stream",
     "text": [
      "Gradient Boost: 199.1987\n",
      "AdaBoost: 188.9125\n"
     ]
    }
   ],
   "source": [
    "print('Gradient Boost: %0.4f'%predict_test_gradient[0])\n",
    "print('AdaBoost: %0.4f'%predict_test_adaboost[0])\n"
   ]
  },
  {
   "cell_type": "code",
   "execution_count": 21,
   "id": "983564e3-f85a-483f-9b80-aaade8a83b00",
   "metadata": {},
   "outputs": [],
   "source": [
    "model_result={'Linear Model: {}':predict_test_linear[[0]],\n",
    "             'Lasso Regression':predict_test_lasso[[0]]}"
   ]
  },
  {
   "cell_type": "code",
   "execution_count": 22,
   "id": "03844484-2c25-4bf7-af0a-3d6cd5d44fe9",
   "metadata": {},
   "outputs": [
    {
     "data": {
      "text/plain": [
       "{'Linear Model: {}': array([219.17272621]),\n",
       " 'Lasso Regression': array([237.81689275])}"
      ]
     },
     "execution_count": 22,
     "metadata": {},
     "output_type": "execute_result"
    }
   ],
   "source": [
    "model_result"
   ]
  }
 ],
 "metadata": {
  "kernelspec": {
   "display_name": "Python 3 (ipykernel)",
   "language": "python",
   "name": "python3"
  },
  "language_info": {
   "codemirror_mode": {
    "name": "ipython",
    "version": 3
   },
   "file_extension": ".py",
   "mimetype": "text/x-python",
   "name": "python",
   "nbconvert_exporter": "python",
   "pygments_lexer": "ipython3",
   "version": "3.11.7"
  }
 },
 "nbformat": 4,
 "nbformat_minor": 5
}
